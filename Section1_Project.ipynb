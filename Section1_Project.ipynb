{
  "nbformat": 4,
  "nbformat_minor": 0,
  "metadata": {
    "colab": {
      "private_outputs": true,
      "provenance": [],
      "collapsed_sections": []
    },
    "kernelspec": {
      "name": "python3",
      "display_name": "Python 3"
    },
    "language_info": {
      "name": "python"
    }
  },
  "cells": [
    {
      "cell_type": "markdown",
      "source": [
        "# 프로젝트 목표\n",
        "\n",
        "게임 회사의 데이터 팀에 합류했을 때\n",
        "\n",
        "다음 분기에 어떤 게임을 설계해야 할까라는 고민을 해결하기 위해, \n",
        "\n",
        "기존의 데이터에 기반하여 인사이트를 얻고, 의사결정을 하고자 하는 것\n",
        "\n"
      ],
      "metadata": {
        "id": "1nH73613g_MU"
      }
    },
    {
      "cell_type": "markdown",
      "source": [
        "# 🕹️ Data Description\n",
        "\n",
        "**Name** : 게임의 이름입니다.\n",
        "\n",
        "**Platform** : 게임이 지원되는 플랫폼의 이름입니다.\n",
        "\n",
        "**Year** : 게임이 출시된 연도입니다.\n",
        "\n",
        "**Genre** : 게임의 장르입니다.\n",
        "\n",
        "**Publisher** : 게임을 배급한 회사입니다.\n",
        "\n",
        "**NA_Sales** : 북미지역에서의 출고량입니다.\n",
        "\n",
        "**EU_Sales** : 유럽지역에서의 출고량입니다.\n",
        "\n",
        "**JP_Sales** : 일본지역에서의 출고량입니다.\n",
        "\n",
        "**Other_Sales** : 기타지역에서의 출고량입니다."
      ],
      "metadata": {
        "id": "KLN0mF7ThSym"
      }
    },
    {
      "cell_type": "code",
      "execution_count": null,
      "metadata": {
        "id": "7gvAeoKoNqmI"
      },
      "outputs": [],
      "source": [
        "import pandas as pd\n",
        "import numpy as np\n",
        "import re\n",
        "import matplotlib.pyplot as plt\n",
        "import math\n",
        "import seaborn as sns"
      ]
    },
    {
      "cell_type": "code",
      "source": [
        "df_original = pd.read_csv(\"/content/vgames2.csv\")"
      ],
      "metadata": {
        "id": "ovFalrxwOCMH"
      },
      "execution_count": null,
      "outputs": []
    },
    {
      "cell_type": "code",
      "source": [
        "df_original.info()"
      ],
      "metadata": {
        "id": "Q4EhlU89OSPn"
      },
      "execution_count": null,
      "outputs": []
    },
    {
      "cell_type": "markdown",
      "source": [
        "# 데이터 전처리\n",
        "\n",
        "총 16,598개의 데이터\n",
        "\n",
        "1. Year, Genre, Publisher colum의 결측치 제거\n",
        "\n",
        "2. [Year] : 이상치를 수정하고 float형으로 변환\n",
        "\n",
        "3. [Sales] : float 형으로 변환하고, 단위를 통일\n",
        "\n",
        "4. [Unnamed: 0] : column 삭제"
      ],
      "metadata": {
        "id": "FqT_b0lhOZ9D"
      }
    },
    {
      "cell_type": "code",
      "source": [
        "# Unnamed: 0 행 제거\n",
        "df = df_original.drop('Unnamed: 0', axis=1)"
      ],
      "metadata": {
        "id": "kFAd5HxdV9US"
      },
      "execution_count": null,
      "outputs": []
    },
    {
      "cell_type": "code",
      "source": [
        "# 결측치 있는 행 제거\n",
        "df = df.dropna(axis=0)"
      ],
      "metadata": {
        "id": "JUP30odMXAvQ"
      },
      "execution_count": null,
      "outputs": []
    },
    {
      "cell_type": "code",
      "source": [
        "# index 재정렬\n",
        "df.reset_index(drop=True)"
      ],
      "metadata": {
        "id": "BiHKOCVYgPIt"
      },
      "execution_count": null,
      "outputs": []
    },
    {
      "cell_type": "code",
      "source": [
        "# [Year] 형 변환\n",
        "df['Year'] = df['Year'].astype(int)"
      ],
      "metadata": {
        "id": "F7qYJWWdXAPr"
      },
      "execution_count": null,
      "outputs": []
    },
    {
      "cell_type": "code",
      "source": [
        "# 출시연도 부정확한 데이터들 존재\n",
        "display(df[df['Year'] < 100])"
      ],
      "metadata": {
        "id": "G2i10cHB3jIF"
      },
      "execution_count": null,
      "outputs": []
    },
    {
      "cell_type": "code",
      "source": [
        "# 출시연도 바꿔주기\n",
        "\n",
        "def year_error(i):\n",
        "    if i < 20 :\n",
        "        return i + 2000\n",
        "    elif i < 100 :\n",
        "        return i + 1900\n",
        "    else:\n",
        "        return i\n",
        "\n",
        "df['Year'] = df['Year'].apply(year_error)"
      ],
      "metadata": {
        "id": "vIgffC7X1gA0"
      },
      "execution_count": null,
      "outputs": []
    },
    {
      "cell_type": "code",
      "source": [
        "# M 삭제\n",
        "df['NA_Sales'] = df['NA_Sales'].str.replace('M', '')\n",
        "df['EU_Sales'] = df['EU_Sales'].str.replace('M', '')\n",
        "df['JP_Sales'] = df['JP_Sales'].str.replace('M', '')\n",
        "df['Other_Sales'] = df['Other_Sales'].str.replace('M', '')"
      ],
      "metadata": {
        "id": "Tu1MO8AwYpSz"
      },
      "execution_count": null,
      "outputs": []
    },
    {
      "cell_type": "code",
      "source": [
        "# K 포함값들 바꿔주기\n",
        "\n",
        "def fillzero (s):\n",
        "    s.str.pad(width=5, side='left', fillchar='0')"
      ],
      "metadata": {
        "id": "2L5ebIOSi1C5"
      },
      "execution_count": null,
      "outputs": []
    },
    {
      "cell_type": "code",
      "source": [
        "df['NA_Sales'] = df['NA_Sales'].str.pad(width=5, side='left', fillchar='0')\n",
        "df['EU_Sales'] = df['EU_Sales'].str.pad(width=5, side='left', fillchar='0')\n",
        "df['JP_Sales'] = df['JP_Sales'].str.pad(width=5, side='left', fillchar='0')\n",
        "df['Other_Sales'] = df['Other_Sales'].str.pad(width=5, side='left', fillchar='0')"
      ],
      "metadata": {
        "id": "-GaRv3CQk6vy"
      },
      "execution_count": null,
      "outputs": []
    },
    {
      "cell_type": "code",
      "source": [
        "df['NA_Sales'] = df['NA_Sales'].str.replace('K', '')\n",
        "df['EU_Sales'] = df['EU_Sales'].str.replace('K', '')\n",
        "df['JP_Sales'] = df['JP_Sales'].str.replace('K', '')\n",
        "df['Other_Sales'] = df['Other_Sales'].str.replace('K', '')"
      ],
      "metadata": {
        "id": "mB7ubdF1laki"
      },
      "execution_count": null,
      "outputs": []
    },
    {
      "cell_type": "code",
      "source": [
        "df['NA_Sales'] = df['NA_Sales'].str.replace('00000', '0.0')\n",
        "df['EU_Sales'] = df['EU_Sales'].str.replace('00000', '0.0')\n",
        "df['JP_Sales'] = df['JP_Sales'].str.replace('00000', '0.0')\n",
        "df['Other_Sales'] = df['Other_Sales'].str.replace('00000', '0.0')"
      ],
      "metadata": {
        "id": "PDkqGAlnZY6b"
      },
      "execution_count": null,
      "outputs": []
    },
    {
      "cell_type": "code",
      "source": [
        "df['NA_Sales'] = df['NA_Sales'].str.replace('0000', '0.0')\n",
        "df['EU_Sales'] = df['EU_Sales'].str.replace('0000', '0.0')\n",
        "df['JP_Sales'] = df['JP_Sales'].str.replace('0000', '0.0')\n",
        "df['Other_Sales'] = df['Other_Sales'].str.replace('0000', '0.0')"
      ],
      "metadata": {
        "id": "vpW0zeeAbZWJ"
      },
      "execution_count": null,
      "outputs": []
    },
    {
      "cell_type": "code",
      "source": [
        "# 0450K 를 0.45M 으로 바꿔준다\n",
        "def ktom(s):\n",
        "    if '.' not in s :\n",
        "        return s.replace(\"0\", \"0.\", 1)\n",
        "    return str(s)"
      ],
      "metadata": {
        "id": "UxdrQ5_xhGXj"
      },
      "execution_count": null,
      "outputs": []
    },
    {
      "cell_type": "code",
      "source": [
        "df['NA_Sales'] = df['NA_Sales'].apply(ktom)\n",
        "df['EU_Sales'] = df['EU_Sales'].apply(ktom)\n",
        "df['JP_Sales'] = df['JP_Sales'].apply(ktom)\n",
        "df['Other_Sales'] = df['Other_Sales'].apply(ktom)"
      ],
      "metadata": {
        "id": "-PsNzMzrn08d"
      },
      "execution_count": null,
      "outputs": []
    },
    {
      "cell_type": "code",
      "source": [
        "# [Sales] float 형으로 변환\n",
        "df['NA_Sales'] = df['NA_Sales'].astype(float)\n",
        "df['EU_Sales'] = df['EU_Sales'].astype(float)\n",
        "df['JP_Sales'] = df['JP_Sales'].astype(float)\n",
        "df['Other_Sales'] = df['Other_Sales'].astype(float)"
      ],
      "metadata": {
        "id": "M8p35z0BWL33"
      },
      "execution_count": null,
      "outputs": []
    },
    {
      "cell_type": "code",
      "source": [
        "# 전체 판매량 column 만들기\n",
        "df['Total_Sales'] = df['NA_Sales'] + df['EU_Sales'] + df['JP_Sales'] + df['Other_Sales']"
      ],
      "metadata": {
        "id": "1lPrXau8PivC"
      },
      "execution_count": null,
      "outputs": []
    },
    {
      "cell_type": "code",
      "source": [
        "df.info()"
      ],
      "metadata": {
        "id": "DIYDday5jHOA"
      },
      "execution_count": null,
      "outputs": []
    },
    {
      "cell_type": "markdown",
      "source": [
        "--- \n",
        "\n",
        "# 1. 지역에 따른 선호게임 장르의 차이"
      ],
      "metadata": {
        "id": "NL4kD9k7PadJ"
      }
    },
    {
      "cell_type": "code",
      "source": [
        "# 전세계적으로 선호하는 장르\n",
        "df_genre = df.groupby(by=['Genre'])['Total_Sales'].sum()\n",
        "df_genre = df_genre.reset_index()"
      ],
      "metadata": {
        "id": "skwhPOECP4LB"
      },
      "execution_count": null,
      "outputs": []
    },
    {
      "cell_type": "code",
      "source": [
        "# 지역별로 선호하는 장르\n",
        "\n",
        "df_genre_na = df.groupby(by=['Genre'])['NA_Sales'].sum()\n",
        "df_genre_na = df_genre_na.reset_index()\n",
        "\n",
        "df_genre_eu = df.groupby(by=['Genre'])['EU_Sales'].sum()\n",
        "df_genre_eu = df_genre_eu.reset_index()\n",
        "\n",
        "df_genre_jp = df.groupby(by=['Genre'])['JP_Sales'].sum()\n",
        "df_genre_jp = df_genre_jp.reset_index()\n",
        "\n",
        "df_genre_o = df.groupby(by=['Genre'])['Other_Sales'].sum()\n",
        "df_genre_o = df_genre_o.reset_index()"
      ],
      "metadata": {
        "id": "1pyUX-49P9t5"
      },
      "execution_count": null,
      "outputs": []
    },
    {
      "cell_type": "code",
      "source": [
        "df_genre = df_genre.combine_first(df_genre_na).combine_first(df_genre_eu).combine_first(df_genre_jp).combine_first(df_genre_o)\n",
        "df_genre = df_genre.set_index('Genre')"
      ],
      "metadata": {
        "id": "uxsUl7EkQ4gL"
      },
      "execution_count": null,
      "outputs": []
    },
    {
      "cell_type": "code",
      "source": [
        "df_genre"
      ],
      "metadata": {
        "id": "H_vOz4MxRYWK"
      },
      "execution_count": null,
      "outputs": []
    },
    {
      "cell_type": "code",
      "source": [
        "plt.figure(figsize=(15,10))\n",
        "plt.title('Preffered Genre by Local', fontsize=25)\n",
        "\n",
        "plt.xlabel('Genre', fontsize=15)\n",
        "plt.ylabel('Sales', fontsize=15)\n",
        "\n",
        "sns.lineplot(data=df_genre, markers=True)"
      ],
      "metadata": {
        "id": "ba-PIS6zRshq"
      },
      "execution_count": null,
      "outputs": []
    }
  ]
}